{
 "cells": [
  {
   "cell_type": "markdown",
   "metadata": {},
   "source": [
    "# PRÁCTICA 11: REDES NEURONALES DE FUNCIONES DE BASE RADIAL Y MÁQUINAS DE VECTORES SOPORTE"
   ]
  },
  {
   "cell_type": "markdown",
   "metadata": {},
   "source": [
    "###### Técnicas de Aprendizaje Automático 2019/2020 <br>Patricia Aguado Labrador"
   ]
  },
  {
   "cell_type": "code",
   "execution_count": 1,
   "metadata": {},
   "outputs": [],
   "source": [
    "from sklearn.datasets import load_breast_cancer\n",
    "from sklearn.preprocessing import MinMaxScaler\n",
    "from sklearn.metrics import accuracy_score as ac\n",
    "\n",
    "from sklearn.model_selection import StratifiedKFold\n",
    "from sklearn.cluster import KMeans\n",
    "from sklearn.metrics.pairwise import euclidean_distances\n",
    "from sklearn.svm import SVC\n",
    "\n",
    "import numpy as np\n",
    "from scipy.stats import mode\n",
    "import matplotlib.pyplot as plt"
   ]
  },
  {
   "cell_type": "markdown",
   "metadata": {},
   "source": [
    "#### Descripción del conjunto de datos:"
   ]
  },
  {
   "cell_type": "markdown",
   "metadata": {},
   "source": [
    "El conjunto de datos 'breast_cancer' está formado por características calculadas a partir de una imagen digitalizada de una biopsia del seno. Este dataset contiene 30 características de tipo numérico acerca de los núcleos celulares presentes en la imagen. Los datos pertenecen a una clase binaria, 0 si el diagnóstico es maligno y 1 si es benigno."
   ]
  },
  {
   "cell_type": "code",
   "execution_count": 2,
   "metadata": {},
   "outputs": [],
   "source": [
    "data = load_breast_cancer()"
   ]
  },
  {
   "cell_type": "code",
   "execution_count": 3,
   "metadata": {},
   "outputs": [
    {
     "data": {
      "text/plain": [
       "((569, 30), (569,))"
      ]
     },
     "execution_count": 3,
     "metadata": {},
     "output_type": "execute_result"
    }
   ],
   "source": [
    "# Normalizar\n",
    "X = MinMaxScaler().fit_transform(data.data)\n",
    "y = data.target\n",
    "\n",
    "X.shape, y.shape"
   ]
  },
  {
   "cell_type": "markdown",
   "metadata": {},
   "source": [
    "Las redes de función de base radial están formadas por tres capas: una de entrada, una única capa oculta y una capa de salida. El primer parámetro que hay que decidir es el número de neuronas que habrá en la capa oculta y que se encargarán de realizar determinados cálculos. Para entrenar la capa oculta utilizaremos el algoritmo k-medias y para ello necesitamos el número de clusters, el cual coincidirá con el número de neuronas, por lo que debemos de buscar el número de neuronas óptimo. Para encontrar este número aplicaremos el algoritmo k-medias variando k hasta encontrar el que mayor tasa de acierto nos ofrezca."
   ]
  },
  {
   "cell_type": "markdown",
   "metadata": {},
   "source": [
    "### TASAS DE ACIERTO PARA CADA POSIBLE NÚMERO DE NEURONAS EN LA CAPA OCULTA"
   ]
  },
  {
   "cell_type": "code",
   "execution_count": 4,
   "metadata": {},
   "outputs": [],
   "source": [
    "# Creación de 10 particiones para realizar validación cruzada\n",
    "skf = StratifiedKFold(n_splits=10, random_state=0)"
   ]
  },
  {
   "cell_type": "code",
   "execution_count": 5,
   "metadata": {},
   "outputs": [
    {
     "name": "stdout",
     "output_type": "stream",
     "text": [
      "\u001b[4mNº Clusters     Tasa de acierto\u001b[0m\n",
      "     2       |      0.9265\n",
      "     3       |      0.9052\n",
      "     4       |      0.8804\n",
      "     5       |      0.9175\n",
      "     6       |      0.8860\n",
      "     7       |      0.8981\n",
      "     8       |      0.9122\n",
      "     9       |      0.9156\n",
      "     10      |      0.9297\n",
      "     11      |      0.9278\n",
      "     12      |      0.9278\n",
      "     13      |      0.9332\n",
      "     14      |      0.9435\n",
      "     15      |      0.9491\n",
      "     16      |      0.9421\n",
      "     17      |      0.9439\n",
      "     18      |      0.9421\n",
      "     19      |      0.9578\n",
      "     20      |      0.9509\n",
      "     21      |      0.9455\n",
      "     22      |      0.9525\n",
      "     23      |      0.9507\n",
      "     24      |      0.9473\n",
      "     25      |      0.9543\n",
      "     26      |      0.9577\n",
      "     27      |      0.9455\n",
      "     28      |      0.9404\n",
      "     29      |      0.9527\n",
      "     30      |      0.9420\n"
     ]
    },
    {
     "data": {
      "image/png": "[encoded data removed]",
      "text/plain": [
       "<Figure size 432x288 with 1 Axes>"
      ]
     },
     "metadata": {
      "needs_background": "light"
     },
     "output_type": "display_data"
    }
   ],
   "source": [
    "# Array que almacenará el número de clusters con el que obtuvimos la mayor tasa de acierto para\n",
    "# cada tamaño de capa oculta que va a variar de 2 a 30\n",
    "min_hl_size = 2\n",
    "max_hl_size = 30\n",
    "# Array para almacenar los resultados de la tasa de acierto por tamaño de capa oculta\n",
    "hl_accuracy = np.zeros(max_hl_size-1, dtype='float')\n",
    "\n",
    "print(\"\\33[4mNº Clusters     Tasa de acierto\\33[0m\")\n",
    "\n",
    "for hl in range(min_hl_size,max_hl_size+1):\n",
    "    # Creación del agrupamiento de kmedias con un número de clusters igual al número de neuronas que varia de 2 a 30\n",
    "    kmeans = KMeans(n_clusters=hl, random_state=0)\n",
    "    \n",
    "    for train_index, test_index in skf.split(X,y):\n",
    "        X_train, X_test = X[train_index], X[test_index]\n",
    "        y_train, y_test = y[train_index], y[test_index]\n",
    "        \n",
    "        # Entrenamiento de kmeans en la partición\n",
    "        kmeans.fit(X_train)\n",
    "        # Array para almacenar el etiquedado de moda de los clusters existentes en cada partición\n",
    "        mode_fold = np.ones(hl, dtype='int')\n",
    "        \n",
    "        for c in range(hl):\n",
    "            # Número de clusters como número de neuronas\n",
    "            cluster_labels = kmeans.labels_\n",
    "            # Moda para cada cluster\n",
    "            mode_fold[c] = mode(y_train[np.argwhere(cluster_labels == c)])[0]\n",
    "        \n",
    "        # Predecimos el cluster al que van a pertenecer las instancias de prueba\n",
    "        cluster_predict = kmeans.predict(X_test)\n",
    "        # Etiquetamos cada instancia con la moda del cluster al que pertenecen\n",
    "        y_test_predict = mode_fold[cluster_predict]\n",
    "        \n",
    "        # Suma de las 10 tasas de acierto para cada cluster\n",
    "        hl_accuracy[hl-min_hl_size] += ac(y_test,y_test_predict)\n",
    "    \n",
    "    # Media de la tasa de aciertos para cada número de clusters\n",
    "    hl_accuracy[hl-min_hl_size] /= 10\n",
    "    \n",
    "    # Impresión de los resultados\n",
    "    if(hl<10):\n",
    "        print(\"    \",hl,\"      |      %.4f\" %hl_accuracy[hl-min_hl_size])\n",
    "    else:\n",
    "        print(\"    \",hl,\"     |      %.4f\" %hl_accuracy[hl-min_hl_size])\n",
    "\n",
    "        \n",
    "y_plot = hl_accuracy\n",
    "x_plot = [i+min_hl_size for i in range(y_plot.shape[0])]\n",
    "plt.plot(x_plot,y_plot)\n",
    "plt.plot(np.argmax(y_plot)+min_hl_size,y_plot[np.argmax(y_plot)],marker=\"o\",color=\"r\")\n",
    "plt.xlabel(\"Nº Clusters\")\n",
    "plt.ylabel(\"Tasa de acierto\")\n",
    "plt.show()"
   ]
  },
  {
   "cell_type": "markdown",
   "metadata": {},
   "source": [
    "### NÚMERO DE CLUSTERS ÓPTIMO"
   ]
  },
  {
   "cell_type": "code",
   "execution_count": 6,
   "metadata": {},
   "outputs": [
    {
     "name": "stdout",
     "output_type": "stream",
     "text": [
      "\n",
      "\u001b[1mLa mayor tasa de acierto la obtenemos con 19 clusters \u001b[0m(0.9578)\n"
     ]
    }
   ],
   "source": [
    "optimal_cluster = np.argmax(hl_accuracy)+min_hl_size\n",
    "\n",
    "print(\"\\n\\033[1mLa mayor tasa de acierto la obtenemos con\",optimal_cluster,\"clusters \\033[0m(%.4f)\" %hl_accuracy[np.argmax(hl_accuracy)])"
   ]
  },
  {
   "cell_type": "markdown",
   "metadata": {},
   "source": [
    "Una vez encontrado el número de neuronas óptimo, realizaremos mediante el método de validación cruzada el entrenamiento de la rbf para ver cómo trabaja la red con los parámetros que hemos decidido. Como hemos dicho antes, la capa oculta la vamos a entrenar con el algoritmo k-medias y una vez hecho esto las neuronas de una rbf se encargarán de calcular la distancia euclídea entre los centroides de los clusters (obtenidos mediante el entrenamiento con k-medias) y la entrada. Sobre estas distancias se aplicará la función de base radial (sigma) con la que obtendremos una medida sobre cuando una instancia activa una neurona para que produzca una salida significativa."
   ]
  },
  {
   "cell_type": "markdown",
   "metadata": {},
   "source": [
    "Por último, para el entrenamiento de la capa de salida utilizaremos un algoritmo supervisado denominado máquinas de vectores de soporte utilizando un núcleo polinómico. Ahora lo que debemos encontrar es el grado de esta función polinómica que mejor funciona con la capa de salida. Para encontrar el grado óptimo utilizaremos el metodo ensayo y error variando el parámetro 'degree' de 1 a 5, ya que a partir de este último los resultados comienzan a empeorar."
   ]
  },
  {
   "cell_type": "markdown",
   "metadata": {},
   "source": [
    "### RBF CON SVM EN LA CAPA DE SALIDA CON FUNCIÓN DE NÚCLEO POLINÓMICA"
   ]
  },
  {
   "cell_type": "code",
   "execution_count": 7,
   "metadata": {},
   "outputs": [
    {
     "name": "stdout",
     "output_type": "stream",
     "text": [
      "\u001b[4mGrado polinomial     Tasa de acierto\u001b[0m\n",
      "        1                0.9440\n",
      "        2                0.9387\n",
      "        3                0.9335\n",
      "        4                0.9282\n",
      "        5                0.9142\n"
     ]
    }
   ],
   "source": [
    "min_degree = 1\n",
    "max_degree = 5\n",
    "# Array para almacenar los resultados de la tasa de acierto por cada posible grado de función polinómica\n",
    "accuracy_per_degree = np.zeros(max_degree, dtype='float')\n",
    "\n",
    "print(\"\\33[4mGrado polinomial     Tasa de acierto\\33[0m\")\n",
    "for degree in range(min_degree, max_degree+1):\n",
    "    \n",
    "    for train_index, test_index in skf.split(X,y):\n",
    "        X_train, X_test = X[train_index], X[test_index]\n",
    "        y_train, y_test = y[train_index], y[test_index]\n",
    "        \n",
    "        # Creación del agrupamiento de kmedias con el número de clusters óptimo anteriormente calculado\n",
    "        kmeans = KMeans(n_clusters=optimal_cluster, random_state=0)\n",
    "        # Entrenamiento de kmeans en la partición\n",
    "        kmeans.fit(X_train)\n",
    "        # Cálculo de los centros de cada cluster\n",
    "        centers = kmeans.cluster_centers_\n",
    "        \n",
    "        # Cálculo de las distancias entre los centros de los clusters y del parámetro sigma\n",
    "        distances = euclidean_distances(centers)\n",
    "        sigma = np.sum(distances, axis=0)/(centers.shape[0]-1)\n",
    "        \n",
    "        # Matriz que almacena los grados de pertenencia de cada instancia de prueba a cada cluster\n",
    "        X_rbf_train = np.zeros((X_train.shape[0], centers.shape[0]), dtype='float')\n",
    "        for i in range(X_train.shape[0]):\n",
    "            for j in range(centers.shape[0]):\n",
    "                # Cálculo de la función de base radial para el conjunto de entrenamiento\n",
    "                X_rbf_train[i][j] = np.exp(-np.sum((X_train[i]-centers[j])**2)/(2.0*(sigma[j]**2)))\n",
    "        \n",
    "        # Matriz que almacena los grados de pertenencia de cada instancia de test a cada cluster\n",
    "        X_rbf_test = np.zeros((X_test.shape[0], centers.shape[0]), dtype='float')\n",
    "        for i in range(X_test.shape[0]):\n",
    "            for j in range(centers.shape[0]):\n",
    "                # Cálculo de la función de base radial para el conjunto de prueba\n",
    "                X_rbf_test[i][j] = np.exp(-np.sum((X_test[i]-centers[j])**2)/(2.0*(sigma[j]**2)))\n",
    "        \n",
    "        # Creamos y entrenamos el separador basado en máquinas de vectores soporte con función de núcleo polinómica\n",
    "        svm = SVC(kernel='poly', degree=degree, random_state=0, gamma='auto')\n",
    "        svm.fit(X_rbf_train,y_train)\n",
    "        \n",
    "        # Calculamos la tasa de acierto para la salida de la capa oculta para el conjunto de entrenamiento\n",
    "        accuracy = svm.score(X_rbf_test,y_test)\n",
    "        accuracy_per_degree[degree-min_degree] += accuracy\n",
    "    \n",
    "    # Media de la tasa de aciertos para cada grado de polinomio\n",
    "    accuracy_per_degree[degree-min_degree] /=10\n",
    "    print(\"       \",degree,\"               %.4f\" %accuracy_per_degree[degree-min_degree])"
   ]
  },
  {
   "cell_type": "markdown",
   "metadata": {},
   "source": [
    "### GRADO ÓPTIMO PARA EL POLINOMIO DE LA FUNCIÓN NÚCLEO DE SVM"
   ]
  },
  {
   "cell_type": "code",
   "execution_count": 8,
   "metadata": {},
   "outputs": [
    {
     "name": "stdout",
     "output_type": "stream",
     "text": [
      "\n",
      "\u001b[1mLa mayor tasa de acierto la obtenemos con un kernel polinómico de grado 1 \u001b[0m(0.9440)\n"
     ]
    }
   ],
   "source": [
    "optimal_degree = np.argmax(accuracy_per_degree)+min_degree   \n",
    "\n",
    "print(\"\\n\\033[1mLa mayor tasa de acierto la obtenemos con un kernel polinómico de grado\",optimal_degree,\"\\033[0m(%.4f)\" %accuracy_per_degree[np.argmax(accuracy_per_degree)])"
   ]
  }
 ],
 "metadata": {
  "kernelspec": {
   "display_name": "Python 3",
   "language": "python",
   "name": "python3"
  },
  "language_info": {
   "codemirror_mode": {
    "name": "ipython",
    "version": 3
   },
   "file_extension": ".py",
   "mimetype": "text/x-python",
   "name": "python",
   "nbconvert_exporter": "python",
   "pygments_lexer": "ipython3",
   "version": "3.7.4"
  }
 },
 "nbformat": 4,
 "nbformat_minor": 2
}

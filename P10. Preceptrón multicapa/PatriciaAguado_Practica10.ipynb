{
 "cells": [
  {
   "cell_type": "markdown",
   "metadata": {},
   "source": [
    "# PRÁCTICA 10: PERCEPTRÓN MULTICAPA"
   ]
  },
  {
   "cell_type": "markdown",
   "metadata": {},
   "source": [
    "###### Técnicas de Aprendizaje Automático 2019/2020 <br>Patricia Aguado Labrador"
   ]
  },
  {
   "cell_type": "code",
   "execution_count": 1,
   "metadata": {},
   "outputs": [],
   "source": [
    "from sklearn.datasets import fetch_openml\n",
    "import numpy as np\n",
    "import pandas as pd\n",
    "from sklearn.model_selection import StratifiedKFold\n",
    "from sklearn.preprocessing import MinMaxScaler\n",
    "from sklearn.neural_network import MLPClassifier\n",
    "from sklearn.metrics import accuracy_score as ac\n",
    "import time"
   ]
  },
  {
   "cell_type": "markdown",
   "metadata": {},
   "source": [
    "#### Descripción del conjunto de datos:"
   ]
  },
  {
   "cell_type": "markdown",
   "metadata": {},
   "source": [
    "Dataset perteneciente al dominio de la enfermedad relacionada con la tiroides. Está formado por 26 atributos numéricos y una clase nominal que puede tomar cinco valores en el rango ['1','5']."
   ]
  },
  {
   "cell_type": "code",
   "execution_count": 2,
   "metadata": {},
   "outputs": [],
   "source": [
    "data = fetch_openml(name='thyroid-allhypo')"
   ]
  },
  {
   "cell_type": "code",
   "execution_count": 3,
   "metadata": {},
   "outputs": [
    {
     "data": {
      "text/plain": [
       "((2800, 26), (2800,))"
      ]
     },
     "execution_count": 3,
     "metadata": {},
     "output_type": "execute_result"
    }
   ],
   "source": [
    "X = data.data\n",
    "# Normalizar\n",
    "X = MinMaxScaler().fit_transform(X)\n",
    "\n",
    "y = data.target\n",
    "X.shape, y.shape"
   ]
  },
  {
   "cell_type": "markdown",
   "metadata": {},
   "source": [
    "### MLP clasificador con validación cruzada (k=10)"
   ]
  },
  {
   "cell_type": "code",
   "execution_count": 4,
   "metadata": {},
   "outputs": [
    {
     "name": "stdout",
     "output_type": "stream",
     "text": [
      "\u001b[1mTamaño de capa:\u001b[0m 10\n",
      "\u001b[4mFold     Entrena     Verifica     T.Ejecución\u001b[0m\n",
      "0 \t 0.7242      0.7148       3.0782\n",
      "1 \t 0.7225      0.7402       2.8689\n",
      "2 \t 0.7310      0.6786       3.0221\n",
      "3 \t 0.7159      0.7750       3.1784\n",
      "4 \t 0.7258      0.6893       2.7293\n",
      "5 \t 0.7251      0.7133       3.3029\n",
      "6 \t 0.7279      0.7168       4.3273\n",
      "7 \t 0.7259      0.7025       3.8857\n",
      "8 \t 0.7263      0.6667       2.9185\n",
      "9 \t 0.7196      0.7384       2.4553\n",
      "\n",
      "\n",
      "MEDIA (Entrena)= 0.7244\n",
      "MEDIA (Verifica)= 0.7135\n",
      "Tiempo Total (seg)= 31.7666\n",
      "\n",
      "\n",
      "\u001b[1mTamaño de capa:\u001b[0m 20\n",
      "\u001b[4mFold     Entrena     Verifica     T.Ejecución\u001b[0m\n",
      "0 \t 0.7254      0.7148       1.9636\n",
      "1 \t 0.7265      0.7402       2.4971\n",
      "2 \t 0.7266      0.6679       2.1070\n",
      "3 \t 0.7171      0.7643       1.9386\n",
      "4 \t 0.7302      0.6821       2.9887\n",
      "5 \t 0.7295      0.7097       2.8861\n",
      "6 \t 0.7247      0.7240       2.6783\n",
      "7 \t 0.7279      0.7025       2.3669\n",
      "8 \t 0.7338      0.6631       2.8107\n",
      "9 \t 0.7203      0.7312       2.1287\n",
      "\n",
      "\n",
      "MEDIA (Entrena)= 0.7262\n",
      "MEDIA (Verifica)= 0.7100\n",
      "Tiempo Total (seg)= 24.3656\n",
      "\n",
      "\n",
      "\u001b[1mTamaño de capa:\u001b[0m 30\n",
      "\u001b[4mFold     Entrena     Verifica     T.Ejecución\u001b[0m\n",
      "0 \t 0.7317      0.7113       3.0752\n",
      "1 \t 0.7308      0.7189       2.9655\n",
      "2 \t 0.7321      0.6786       2.3821\n",
      "3 \t 0.7190      0.7750       2.4970\n",
      "4 \t 0.7341      0.6893       2.4383\n",
      "5 \t 0.7354      0.6953       3.5646\n",
      "6 \t 0.7322      0.7168       3.2724\n",
      "7 \t 0.7346      0.6989       2.4339\n",
      "8 \t 0.7342      0.6667       2.3626\n",
      "9 \t 0.7223      0.7384       2.0393\n",
      "\n",
      "\n",
      "MEDIA (Entrena)= 0.7307\n",
      "MEDIA (Verifica)= 0.7089\n",
      "Tiempo Total (seg)= 27.0310\n",
      "\n",
      "\n",
      "\u001b[1mTamaño de capa:\u001b[0m 40\n",
      "\u001b[4mFold     Entrena     Verifica     T.Ejecución\u001b[0m\n",
      "0 \t 0.7266      0.7183       1.8746\n",
      "1 \t 0.7312      0.7473       2.6997\n",
      "2 \t 0.7306      0.6857       2.7630\n",
      "3 \t 0.7210      0.7714       2.0408\n",
      "4 \t 0.7290      0.6857       2.5641\n",
      "5 \t 0.7330      0.7097       2.8512\n",
      "6 \t 0.7243      0.7133       1.8544\n",
      "7 \t 0.7263      0.7133       2.2406\n",
      "8 \t 0.7326      0.6667       3.1108\n",
      "9 \t 0.7283      0.7061       3.2908\n",
      "\n",
      "\n",
      "MEDIA (Entrena)= 0.7283\n",
      "MEDIA (Verifica)= 0.7117\n",
      "Tiempo Total (seg)= 25.2900\n",
      "\n",
      "\n",
      "\u001b[1mTamaño de capa:\u001b[0m 50\n",
      "\u001b[4mFold     Entrena     Verifica     T.Ejecución\u001b[0m\n",
      "0 \t 0.7353      0.7007       3.0638\n",
      "1 \t 0.7293      0.7367       3.2044\n",
      "2 \t 0.7333      0.6821       2.1642\n",
      "3 \t 0.7274      0.7750       3.6118\n",
      "4 \t 0.7373      0.6821       3.3563\n",
      "5 \t 0.7319      0.7061       2.6682\n",
      "6 \t 0.7330      0.7168       2.1080\n",
      "7 \t 0.7342      0.6953       3.7286\n",
      "8 \t 0.7418      0.6703       3.5360\n",
      "9 \t 0.7295      0.7204       3.2561\n",
      "\n",
      "\n",
      "MEDIA (Entrena)= 0.7333\n",
      "MEDIA (Verifica)= 0.7086\n",
      "Tiempo Total (seg)= 30.6974\n",
      "\n",
      "\n",
      "\u001b[1mTamaño de capa:\u001b[0m 60\n",
      "\u001b[4mFold     Entrena     Verifica     T.Ejecución\u001b[0m\n",
      "0 \t 0.7357      0.7113       3.0250\n",
      "1 \t 0.7281      0.7295       1.9612\n",
      "2 \t 0.7333      0.6821       2.2872\n",
      "3 \t 0.7258      0.7786       3.3860\n",
      "4 \t 0.7329      0.6857       2.6963\n",
      "5 \t 0.7342      0.6989       2.5247\n",
      "6 \t 0.7326      0.7168       2.7092\n",
      "7 \t 0.7346      0.6989       2.4698\n",
      "8 \t 0.7358      0.6559       3.2283\n",
      "9 \t 0.7342      0.7276       4.1818\n",
      "\n",
      "\n",
      "MEDIA (Entrena)= 0.7327\n",
      "MEDIA (Verifica)= 0.7085\n",
      "Tiempo Total (seg)= 28.4695\n",
      "\n",
      "\n",
      "\u001b[1mTamaño de capa:\u001b[0m 70\n",
      "\u001b[4mFold     Entrena     Verifica     T.Ejecución\u001b[0m\n",
      "0 \t 0.7313      0.7077       3.3385\n",
      "1 \t 0.7316      0.7295       3.2894\n",
      "2 \t 0.7353      0.6857       1.8155\n",
      "3 \t 0.7190      0.7786       2.2658\n",
      "4 \t 0.7369      0.6964       3.9740\n",
      "5 \t 0.7291      0.7061       2.6569\n",
      "6 \t 0.7342      0.7133       2.3675\n",
      "7 \t 0.7350      0.7097       3.1491\n",
      "8 \t 0.7414      0.6595       3.7005\n",
      "9 \t 0.7255      0.7419       1.8386\n",
      "\n",
      "\n",
      "MEDIA (Entrena)= 0.7319\n",
      "MEDIA (Verifica)= 0.7128\n",
      "Tiempo Total (seg)= 28.3958\n",
      "\n",
      "\n",
      "\u001b[1mTamaño de capa:\u001b[0m 80\n",
      "\u001b[4mFold     Entrena     Verifica     T.Ejecución\u001b[0m\n",
      "0 \t 0.7269      0.7113       2.2807\n",
      "1 \t 0.7293      0.7153       2.8122\n",
      "2 \t 0.7286      0.6714       2.0504\n",
      "3 \t 0.7210      0.7893       3.7521\n",
      "4 \t 0.7337      0.6929       3.0601\n",
      "5 \t 0.7322      0.6953       2.8833\n",
      "6 \t 0.7338      0.7133       2.7504\n",
      "7 \t 0.7350      0.7061       3.7085\n",
      "8 \t 0.7326      0.6703       2.8519\n",
      "9 \t 0.7283      0.7025       3.4187\n",
      "\n",
      "\n",
      "MEDIA (Entrena)= 0.7302\n",
      "MEDIA (Verifica)= 0.7068\n",
      "Tiempo Total (seg)= 29.5684\n",
      "\n",
      "\n",
      "\u001b[1mTamaño de capa:\u001b[0m 90\n",
      "\u001b[4mFold     Entrena     Verifica     T.Ejecución\u001b[0m\n",
      "0 \t 0.7341      0.7113       3.6069\n",
      "1 \t 0.7312      0.7438       4.0433\n",
      "2 \t 0.7325      0.6750       4.2598\n",
      "3 \t 0.7262      0.7786       2.7772\n",
      "4 \t 0.7317      0.6964       2.9559\n",
      "5 \t 0.7319      0.7025       3.7810\n",
      "6 \t 0.7326      0.7204       3.4630\n",
      "7 \t 0.7295      0.6989       4.0776\n",
      "8 \t 0.7350      0.6631       2.6295\n",
      "9 \t 0.7315      0.7384       4.1790\n",
      "\n",
      "\n",
      "MEDIA (Entrena)= 0.7316\n",
      "MEDIA (Verifica)= 0.7128\n",
      "Tiempo Total (seg)= 35.7733\n",
      "\n",
      "\n",
      "\u001b[1mTamaño de capa:\u001b[0m 100\n",
      "\u001b[4mFold     Entrena     Verifica     T.Ejecución\u001b[0m\n",
      "0 \t 0.7361      0.7113       4.0977\n",
      "1 \t 0.7332      0.7295       4.1123\n",
      "2 \t 0.7369      0.6714       3.5946\n",
      "3 \t 0.7226      0.7893       3.1169\n",
      "4 \t 0.7389      0.6857       4.2480\n",
      "5 \t 0.7311      0.7025       3.1859\n",
      "6 \t 0.7291      0.7133       3.0733\n",
      "7 \t 0.7378      0.7025       3.9351\n",
      "8 \t 0.7414      0.6559       2.7776\n",
      "9 \t 0.7295      0.7025       2.1557\n",
      "\n",
      "\n",
      "MEDIA (Entrena)= 0.7337\n",
      "MEDIA (Verifica)= 0.7064\n",
      "Tiempo Total (seg)= 34.2972\n",
      "\n",
      "\n"
     ]
    }
   ],
   "source": [
    "# Creación de 10 particiones para realizar validación cruzada\n",
    "skf = StratifiedKFold(n_splits=10, random_state=0, shuffle=True)\n",
    "# Array para almacenar los resultados por tamaño de capa oculta\n",
    "results_summary = np.zeros((10,3), dtype='float')\n",
    "size = 0\n",
    "for i in range(10,110,10):\n",
    "    # Array para almacenar los resultados de las 10 particiones de cross-validation para cada tamaño de capa oculta\n",
    "    results_per_size = np.zeros((10,3), dtype='float')\n",
    "    k = 0\n",
    "    print(\"\\033[1mTamaño de capa:\\033[0m\",i)\n",
    "    \n",
    "    # Creación, entrenamiento y predicción del clasificador MLP para las 10 particiones\n",
    "    for train_index, test_index in skf.split(X,y):\n",
    "        X_train, X_test = X[train_index], X[test_index]\n",
    "        y_train, y_test = y[train_index], y[test_index]\n",
    "        \n",
    "        start = time.time()\n",
    "        \n",
    "        clf = MLPClassifier(hidden_layer_sizes=(i,), max_iter=2000, random_state=0)\n",
    "        clf.fit(X_train, y_train)\n",
    "        \n",
    "        predict_train = clf.predict(X_train)\n",
    "        predict_test = clf.predict(X_test)\n",
    "        \n",
    "        # Tasa de precisión en entrenamiento y en test\n",
    "        ac_train = ac(y_train, predict_train)\n",
    "        ac_test = ac(y_test, predict_test)\n",
    "        \n",
    "        end = time.time()\n",
    "        execution_time = end - start\n",
    "        \n",
    "        results_per_size[k] = [ac_train,ac_test,execution_time]\n",
    "        k += 1\n",
    "    \n",
    "    # Impresión de resultados para cada tamaño de capa oculta\n",
    "    print('\\33[4mFold     Entrena     Verifica     T.Ejecución\\33[0m')\n",
    "    for i in range(10):\n",
    "        print(i,'\\t %.4f'%results_per_size[i][0],'     %.4f'%results_per_size[i][1],'      %.4f'%results_per_size[i][2])   \n",
    "    print('\\n')\n",
    "    \n",
    "    # Resumen de los resultados a través de la media de las precisiones y de la suma total del tiempo empleado\n",
    "    mean_train = np.mean(results_per_size[:,0], axis = 0, dtype=np.float64)\n",
    "    mean_test = np.mean(results_per_size[:,1], axis = 0, dtype=np.float64)\n",
    "    mean_execution_time = np.sum(results_per_size[:,2], axis = 0, dtype=np.float64)\n",
    "    \n",
    "    # Impresión del resumen de resultados\n",
    "    print('MEDIA (Entrena)= %.4f' %mean_train)\n",
    "    print('MEDIA (Verifica)= %.4f' %mean_test)\n",
    "    print('Tiempo Total (seg)= %.4f' %mean_execution_time)\n",
    "    print('\\n')\n",
    "    \n",
    "    results_summary[size] = [mean_train, mean_test, mean_execution_time]\n",
    "    size += 1"
   ]
  },
  {
   "cell_type": "markdown",
   "metadata": {},
   "source": [
    "### Resumen de resultados"
   ]
  },
  {
   "cell_type": "code",
   "execution_count": 5,
   "metadata": {},
   "outputs": [
    {
     "name": "stdout",
     "output_type": "stream",
     "text": [
      "\u001b[4mNo.Ocultas     Entrena     Verifica     T.Ejecución\u001b[0m\n",
      "10 \t       0.7244      0.7135       31.7666\n",
      "20 \t       0.7262      0.7100       24.3656\n",
      "30 \t       0.7307      0.7089       27.0310\n",
      "40 \t       0.7283      0.7117       25.2900\n",
      "50 \t       0.7333      0.7086       30.6974\n",
      "60 \t       0.7327      0.7085       28.4695\n",
      "70 \t       0.7319      0.7128       28.3958\n",
      "80 \t       0.7302      0.7068       29.5684\n",
      "90 \t       0.7316      0.7128       35.7733\n",
      "100 \t       0.7337      0.7064       34.2972\n"
     ]
    }
   ],
   "source": [
    "# Impresión de los resultados para cada tamaño de capa oculta\n",
    "size = 10\n",
    "print('\\33[4mNo.Ocultas     Entrena     Verifica     T.Ejecución\\33[0m')\n",
    "for i in range(10):\n",
    "    print(size,'\\t       %.4f'%results_summary[i][0],'     %.4f'%results_summary[i][1],'      %.4f'%results_summary[i][2])\n",
    "    size +=10"
   ]
  },
  {
   "cell_type": "code",
   "execution_count": 8,
   "metadata": {},
   "outputs": [
    {
     "name": "stdout",
     "output_type": "stream",
     "text": [
      "Entendiendo mejor resultado como la mayor precisión media en la prueba del clasificador, obtenemos este con un tamaño de capa oculta de: 10 (Verifica: 0.7135)\n"
     ]
    }
   ],
   "source": [
    "# Mayor precisión media en el test\n",
    "best_ac = np.argmax(results_summary[:,1], axis=0)\n",
    "print(\"Entendiendo mejor resultado como la mayor precisión media en la prueba del clasificador, obtenemos este con un tamaño de capa oculta de:\",(best_ac+1)*10,'(Verifica: %.4f)'%results_summary[best_ac][1])"
   ]
  },
  {
   "cell_type": "code",
   "execution_count": 9,
   "metadata": {},
   "outputs": [
    {
     "name": "stdout",
     "output_type": "stream",
     "text": [
      "El resultado que menor tiempo conlleva de ejecución lo obtenemos con un tamaño de capa de: 20 (T.Ejecución: 24.3656)\n"
     ]
    }
   ],
   "source": [
    "# Menor tiempo de ejecución\n",
    "best_t = np.argmin(results_summary[:,2], axis=0)\n",
    "print(\"El resultado que menor tiempo conlleva de ejecución lo obtenemos con un tamaño de capa de:\",(best_t+1)*10, '(T.Ejecución: %.4f)'%results_summary[best_t][2])"
   ]
  }
 ],
 "metadata": {
  "kernelspec": {
   "display_name": "Python 3",
   "language": "python",
   "name": "python3"
  },
  "language_info": {
   "codemirror_mode": {
    "name": "ipython",
    "version": 3
   },
   "file_extension": ".py",
   "mimetype": "text/x-python",
   "name": "python",
   "nbconvert_exporter": "python",
   "pygments_lexer": "ipython3",
   "version": "3.7.4"
  }
 },
 "nbformat": 4,
 "nbformat_minor": 2
}

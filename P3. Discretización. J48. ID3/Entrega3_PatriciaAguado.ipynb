{
 "cells": [
  {
   "cell_type": "markdown",
   "metadata": {},
   "source": [
    "# Entrega 3\n",
    "### Patricia Aguado Labrador"
   ]
  },
  {
   "cell_type": "code",
   "execution_count": 1,
   "metadata": {},
   "outputs": [],
   "source": [
    "import numpy as np\n",
    "from sklearn.tree import DecisionTreeClassifier, export_graphviz\n",
    "from sklearn.metrics import accuracy_score as ac"
   ]
  },
  {
   "cell_type": "code",
   "execution_count": 2,
   "metadata": {},
   "outputs": [],
   "source": [
    "data = np.array([[40, 1],[48, 1],[60, 0],[72, 0],[80, 0],[90, 1]])"
   ]
  },
  {
   "cell_type": "code",
   "execution_count": 3,
   "metadata": {},
   "outputs": [
    {
     "name": "stdout",
     "output_type": "stream",
     "text": [
      "[[40]\n",
      " [48]\n",
      " [60]\n",
      " [72]\n",
      " [80]\n",
      " [90]]\n"
     ]
    }
   ],
   "source": [
    "x_train = data[:,0].reshape(-1, 1)\n",
    "print(x_train)\n",
    "y_train = data[:,-1]"
   ]
  },
  {
   "cell_type": "code",
   "execution_count": 4,
   "metadata": {},
   "outputs": [
    {
     "name": "stdout",
     "output_type": "stream",
     "text": [
      "\n",
      "\u001b[4mTasa de acierto:\u001b[0m  0.8333333333333334\n"
     ]
    }
   ],
   "source": [
    "clf = DecisionTreeClassifier(random_state=0, criterion='entropy', max_depth=1)\n",
    "clf = clf.fit(x_train, y_train)\n",
    "\n",
    "predicted = clf.predict(x_train)\n",
    "ac1 = ac(predicted,y_train)\n",
    "print(\"\\n\\33[4mTasa de acierto:\\33[0m \", ac1)"
   ]
  },
  {
   "cell_type": "code",
   "execution_count": 5,
   "metadata": {},
   "outputs": [],
   "source": [
    "export_graphviz(clf, out_file='treePressure.dot', feature_names = [\"Pressure\"], class_names = [\"-\",\"+\"], filled = True)\n",
    "!dot -Tpng treePressure.dot -o treePressure.png -Gdpi=600"
   ]
  },
  {
   "cell_type": "code",
   "execution_count": 6,
   "metadata": {},
   "outputs": [
    {
     "name": "stdout",
     "output_type": "stream",
     "text": [
      "\n",
      "\u001b[4mTasa de acierto:\u001b[0m  1.0\n"
     ]
    }
   ],
   "source": [
    "clf1 = DecisionTreeClassifier(random_state=0, criterion='entropy')\n",
    "clf1 = clf1.fit(x_train, y_train)\n",
    "\n",
    "predicted1 = clf1.predict(x_train)\n",
    "ac1 = ac(predicted1,y_train)\n",
    "print(\"\\n\\33[4mTasa de acierto:\\33[0m \",ac1)"
   ]
  },
  {
   "cell_type": "code",
   "execution_count": 7,
   "metadata": {},
   "outputs": [],
   "source": [
    "export_graphviz(clf1, out_file='treePressure1.dot', feature_names = [\"Pressure\"], class_names = [\"-\",\"+\"], filled = True)\n",
    "!dot -Tpng treePressure1.dot -o treePressure1.png -Gdpi=600"
   ]
  }
 ],
 "metadata": {
  "kernelspec": {
   "display_name": "Python 3",
   "language": "python",
   "name": "python3"
  },
  "language_info": {
   "codemirror_mode": {
    "name": "ipython",
    "version": 3
   },
   "file_extension": ".py",
   "mimetype": "text/x-python",
   "name": "python",
   "nbconvert_exporter": "python",
   "pygments_lexer": "ipython3",
   "version": "3.7.4"
  }
 },
 "nbformat": 4,
 "nbformat_minor": 2
}

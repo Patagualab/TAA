{
 "cells": [
  {
   "cell_type": "markdown",
   "metadata": {},
   "source": [
    "# PRÁCTICA 9: PERCEPTRÓN SIMPLE Y ADALINE"
   ]
  },
  {
   "cell_type": "markdown",
   "metadata": {},
   "source": [
    "###### Técnicas de Aprendizaje Automático 2019/2020 <br>Patricia Aguado Labrador"
   ]
  },
  {
   "cell_type": "markdown",
   "metadata": {},
   "source": [
    "## EJERCICIO 2"
   ]
  },
  {
   "cell_type": "markdown",
   "metadata": {},
   "source": [
    "Realizar una regresión lineal aplicando Adaline sobre el dataset 'Boston' con 5000 iteraciones como máximo y una tolerancia de 10<sup>-6</sup>.<br>Aplicar validación cruzada de 10 particiones y calcular tasa de acierto para un error relativo menor del 15% en las intancias de test y el R<sup>2</sup> para cada partición, así como la media y desviación de ambos estadísticos."
   ]
  },
  {
   "cell_type": "code",
   "execution_count": 1,
   "metadata": {},
   "outputs": [],
   "source": [
    "from sklearn.datasets import load_boston\n",
    "from sklearn.linear_model import SGDRegressor\n",
    "from sklearn.preprocessing import MinMaxScaler\n",
    "import numpy as np\n",
    "import pandas as pd\n",
    "from sklearn.model_selection import KFold"
   ]
  },
  {
   "cell_type": "markdown",
   "metadata": {},
   "source": [
    "#### Descripción del conjunto de datos:"
   ]
  },
  {
   "cell_type": "markdown",
   "metadata": {},
   "source": [
    "Cargamos el conjunto de datos \"boston\", el cual contiene información sobre 506 viviendas situadas en el área de Boston, Estados Unidos. El dataset contiene 13 atributos numéricos (tasa de criminalidad, concentración de óxidos nítricos, etc) y una clase numérica que indica el valor medio de las viviendas ocupadas en miles de dolares."
   ]
  },
  {
   "cell_type": "code",
   "execution_count": 2,
   "metadata": {},
   "outputs": [],
   "source": [
    "data = load_boston()\n",
    "y = data.target\n",
    "# Normalizar\n",
    "X = MinMaxScaler().fit_transform(data.data)"
   ]
  },
  {
   "cell_type": "code",
   "execution_count": 3,
   "metadata": {},
   "outputs": [],
   "source": [
    "# Creamos el regresor lineal que utiliza la técnica del descenso de gradiente estocástico a la hora de entrenar\n",
    "reg = SGDRegressor(max_iter=5000, tol=1e-6, random_state=20)"
   ]
  },
  {
   "cell_type": "code",
   "execution_count": 4,
   "metadata": {},
   "outputs": [
    {
     "data": {
      "text/html": [
       "<div>\n",
       "<style scoped>\n",
       "    .dataframe tbody tr th:only-of-type {\n",
       "        vertical-align: middle;\n",
       "    }\n",
       "\n",
       "    .dataframe tbody tr th {\n",
       "        vertical-align: top;\n",
       "    }\n",
       "\n",
       "    .dataframe thead th {\n",
       "        text-align: right;\n",
       "    }\n",
       "</style>\n",
       "<table border=\"1\" class=\"dataframe\">\n",
       "  <thead>\n",
       "    <tr style=\"text-align: right;\">\n",
       "      <th></th>\n",
       "      <th>Aciertos</th>\n",
       "      <th>R^2</th>\n",
       "    </tr>\n",
       "  </thead>\n",
       "  <tbody>\n",
       "    <tr>\n",
       "      <td>Fold 0</td>\n",
       "      <td>0.705882</td>\n",
       "      <td>0.762768</td>\n",
       "    </tr>\n",
       "    <tr>\n",
       "      <td>Fold 1</td>\n",
       "      <td>0.764706</td>\n",
       "      <td>0.649132</td>\n",
       "    </tr>\n",
       "    <tr>\n",
       "      <td>Fold 2</td>\n",
       "      <td>0.745098</td>\n",
       "      <td>-0.132922</td>\n",
       "    </tr>\n",
       "    <tr>\n",
       "      <td>Fold 3</td>\n",
       "      <td>0.588235</td>\n",
       "      <td>0.584242</td>\n",
       "    </tr>\n",
       "    <tr>\n",
       "      <td>Fold 4</td>\n",
       "      <td>0.607843</td>\n",
       "      <td>0.57645</td>\n",
       "    </tr>\n",
       "    <tr>\n",
       "      <td>Fold 5</td>\n",
       "      <td>0.72549</td>\n",
       "      <td>0.713092</td>\n",
       "    </tr>\n",
       "    <tr>\n",
       "      <td>Fold 6</td>\n",
       "      <td>0.74</td>\n",
       "      <td>0.501043</td>\n",
       "    </tr>\n",
       "    <tr>\n",
       "      <td>Fold 7</td>\n",
       "      <td>0.22</td>\n",
       "      <td>0.0934735</td>\n",
       "    </tr>\n",
       "    <tr>\n",
       "      <td>Fold 8</td>\n",
       "      <td>0.28</td>\n",
       "      <td>-0.47204</td>\n",
       "    </tr>\n",
       "    <tr>\n",
       "      <td>Fold 9</td>\n",
       "      <td>0.62</td>\n",
       "      <td>0.424197</td>\n",
       "    </tr>\n",
       "  </tbody>\n",
       "</table>\n",
       "</div>"
      ],
      "text/plain": [
       "        Aciertos        R^2\n",
       "Fold 0  0.705882   0.762768\n",
       "Fold 1  0.764706   0.649132\n",
       "Fold 2  0.745098  -0.132922\n",
       "Fold 3  0.588235   0.584242\n",
       "Fold 4  0.607843    0.57645\n",
       "Fold 5   0.72549   0.713092\n",
       "Fold 6      0.74   0.501043\n",
       "Fold 7      0.22  0.0934735\n",
       "Fold 8      0.28   -0.47204\n",
       "Fold 9      0.62   0.424197"
      ]
     },
     "execution_count": 4,
     "metadata": {},
     "output_type": "execute_result"
    }
   ],
   "source": [
    "# Matriz que almacernará los resultados de la tasa de acierto y del R^2 para cada partición\n",
    "results = pd.DataFrame(columns=['Aciertos','R^2'], index=['Fold 0','Fold 1','Fold 2','Fold 3','Fold 4','Fold 5','Fold 6','Fold 7','Fold 8','Fold 9'])\n",
    "k = 0\n",
    "# Creación de 10 particiones para realizar validación cruzada\n",
    "kf = KFold(n_splits=10,random_state=20)\n",
    "\n",
    "for train_index, test_index in kf.split(X, y):\n",
    "    X_train, X_test = X[train_index], X[test_index]\n",
    "    y_train, y_test = y[train_index], y[test_index]\n",
    "    \n",
    "    # Entrenamos el regresor\n",
    "    reg.fit(X_train, y_train)\n",
    "    # Predecimos utilizando las intancias de test\n",
    "    y_predict = reg.predict(X_test)\n",
    "    \n",
    "    # Calculamos el error relativo para cada partición\n",
    "    y_rel_error = abs(y_test-y_predict)/y_test\n",
    "    \n",
    "    # Calculamos la tasa de acierto sobre las muestras de test\n",
    "    # Dividimos el número de instancias que obtienen un error relativo menor del 15% entre el total de muestras de test\n",
    "    ac = np.argwhere(y_rel_error<0.15).shape[0]/y_rel_error.shape[0]\n",
    "    # Calculamos el coeficiente de determinación\n",
    "    r2 = reg.score(X_test,y_test)\n",
    "    \n",
    "    results.loc['Fold '+str(k),:] = [ac,r2]\n",
    "    k +=1\n",
    "\n",
    "results"
   ]
  },
  {
   "cell_type": "markdown",
   "metadata": {},
   "source": [
    "Calculamos el error relativo dividiendo el valor absoluto de la diferencia entre el valor real y el predicho, entre el valor real.<br>"
   ]
  },
  {
   "cell_type": "code",
   "execution_count": 8,
   "metadata": {},
   "outputs": [
    {
     "data": {
      "text/html": [
       "<div>\n",
       "<style scoped>\n",
       "    .dataframe tbody tr th:only-of-type {\n",
       "        vertical-align: middle;\n",
       "    }\n",
       "\n",
       "    .dataframe tbody tr th {\n",
       "        vertical-align: top;\n",
       "    }\n",
       "\n",
       "    .dataframe thead th {\n",
       "        text-align: right;\n",
       "    }\n",
       "</style>\n",
       "<table border=\"1\" class=\"dataframe\">\n",
       "  <thead>\n",
       "    <tr style=\"text-align: right;\">\n",
       "      <th></th>\n",
       "      <th>Media</th>\n",
       "      <th>Desviación estándar</th>\n",
       "    </tr>\n",
       "  </thead>\n",
       "  <tbody>\n",
       "    <tr>\n",
       "      <td>Aciertos</td>\n",
       "      <td>0.599725</td>\n",
       "      <td>0.194976</td>\n",
       "    </tr>\n",
       "    <tr>\n",
       "      <td>R^2</td>\n",
       "      <td>0.369943</td>\n",
       "      <td>0.407833</td>\n",
       "    </tr>\n",
       "  </tbody>\n",
       "</table>\n",
       "</div>"
      ],
      "text/plain": [
       "             Media Desviación estándar\n",
       "Aciertos  0.599725            0.194976\n",
       "R^2       0.369943            0.407833"
      ]
     },
     "execution_count": 8,
     "metadata": {},
     "output_type": "execute_result"
    }
   ],
   "source": [
    "results1 = pd.DataFrame(columns=['Media','Desviación estándar'], index=['Aciertos','R^2'])\n",
    "results1.loc['Aciertos',:] = [results.mean().values[0],results.std().values[0]]\n",
    "results1.loc['R^2',:] = [results.mean().values[1],results.std().values[1]]\n",
    "results1"
   ]
  },
  {
   "cell_type": "markdown",
   "metadata": {},
   "source": [
    "Podemos ver que los resultados no son muy buenos ya que la tasa de aciertos de media no es muy alta (los errores relativos que utilizamos para medir la precisión no tienden a ser menores del 15%) y además de media el coeficiente de determinación es bajo aunque variable por lo que refleja la desviación estándar, por lo que nos informa de que la bondad de ajuste del modelo de media no es muy buena. Todo esto nos indica que hay variables que se han recogido que no guardan relación con el precio medio de una vivienda en Boston."
   ]
  }
 ],
 "metadata": {
  "kernelspec": {
   "display_name": "Python 3",
   "language": "python",
   "name": "python3"
  },
  "language_info": {
   "codemirror_mode": {
    "name": "ipython",
    "version": 3
   },
   "file_extension": ".py",
   "mimetype": "text/x-python",
   "name": "python",
   "nbconvert_exporter": "python",
   "pygments_lexer": "ipython3",
   "version": "3.7.4"
  }
 },
 "nbformat": 4,
 "nbformat_minor": 2
}
